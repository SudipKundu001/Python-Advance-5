{
 "cells": [
  {
   "cell_type": "markdown",
   "id": "26334c5a",
   "metadata": {},
   "source": [
    ">__Q1. What is the meaning of multiple inheritance?__"
   ]
  },
  {
   "cell_type": "markdown",
   "id": "309c18bf",
   "metadata": {},
   "source": [
    "Ans.  Multiple inheritance. Multiple inheritance is a feature of some object-oriented computer programming languages in which a class can inherit characteristics and features from more than one superclass. "
   ]
  },
  {
   "cell_type": "markdown",
   "id": "10014659",
   "metadata": {},
   "source": [
    ">__Q2. What is the concept of delegation?__"
   ]
  },
  {
   "cell_type": "markdown",
   "id": "aac4f5ef",
   "metadata": {},
   "source": [
    "Ans.  Delegation is commonly defined as the shifting of authority and responsibility for particular functions, tasks or decisions from one person (usually a leader or manager) to another."
   ]
  },
  {
   "cell_type": "markdown",
   "id": "5a165af5",
   "metadata": {},
   "source": [
    ">__Q3. What is the concept of composition?__"
   ]
  },
  {
   "cell_type": "markdown",
   "id": "1f612531",
   "metadata": {},
   "source": [
    "Ans.  Composition is a concept that models a has a relationship. It enables creating complex types by combining objects of other types. This means that a class Composite can contain an object of another class Component . This relationship means that a Composite has a Component ."
   ]
  },
  {
   "cell_type": "markdown",
   "id": "fc713e46",
   "metadata": {},
   "source": [
    ">__Q4. What are bound methods and how do we use them?__"
   ]
  },
  {
   "cell_type": "markdown",
   "id": "5cd4f6a9",
   "metadata": {},
   "source": [
    "Ans.  A bound method is the one which is dependent on the instance of the class as the first argument. It passes the instance as the first argument which is used to access the variables and functions. In Python 3 and newer versions of python, all functions in the class are by default bound methods."
   ]
  },
  {
   "cell_type": "markdown",
   "id": "0cdbe5fe",
   "metadata": {},
   "source": [
    ">__Q5. What is the purpose of pseudoprivate attributes?__"
   ]
  },
  {
   "cell_type": "markdown",
   "id": "040cccb0",
   "metadata": {},
   "source": [
    "Ans.  This is sometimes misleadingly called private attributes really, it's just a way to localize a name to the class that created it, and does not prevent access by code outside the class. That is, this feature is mostly intended to avoid namespace collisions in instances, not to restrict access to names in general."
   ]
  }
 ],
 "metadata": {
  "kernelspec": {
   "display_name": "Python 3",
   "language": "python",
   "name": "python3"
  },
  "language_info": {
   "codemirror_mode": {
    "name": "ipython",
    "version": 3
   },
   "file_extension": ".py",
   "mimetype": "text/x-python",
   "name": "python",
   "nbconvert_exporter": "python",
   "pygments_lexer": "ipython3",
   "version": "3.8.8"
  }
 },
 "nbformat": 4,
 "nbformat_minor": 5
}
